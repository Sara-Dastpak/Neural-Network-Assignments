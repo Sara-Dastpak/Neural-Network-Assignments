{
 "cells": [
  {
   "cell_type": "code",
   "execution_count": null,
   "metadata": {
    "colab": {
     "base_uri": "https://localhost:8080/"
    },
    "id": "9APXFXi69Ao9",
    "outputId": "1ede981f-c369-48e5-a7ca-e95be15fff9a"
   },
   "outputs": [],
   "source": [
    "!pip install transformers datasets scikit-learn"
   ]
  },
  {
   "cell_type": "code",
   "execution_count": null,
   "metadata": {
    "colab": {
     "base_uri": "https://localhost:8080/",
     "height": 49,
     "referenced_widgets": [
      "bc87c9882663495ab421ef5e2350ce86",
      "c03b8a4fc04a48148d4729e97b1d884e",
      "ca2edadece444cc19759d2455ed5bfa2",
      "9967eb0180374b4bb4c17292037f7555",
      "3735df4dd2a049bd8f7f61eac92ebad2",
      "1cecb195bce1471ea94553783d74a2d6",
      "baaf484412674e47ad7fb40e54cd302f",
      "9c1ee73afdb2434593afb8f96c480a31",
      "4274a252881e4f6994eb196750437692",
      "9c66bb550a33416fb983dde28ddca57d",
      "11ba4c9395794af496907e9b06f550e6"
     ]
    },
    "id": "AIis0U5u8asf",
    "outputId": "871c0eaa-db9e-486d-e9eb-9cd2d31ee7d1"
   },
   "outputs": [],
   "source": [
    "# بارگذاری کتابخانه‌ها\n",
    "from transformers import AutoTokenizer, AutoModelForSequenceClassification, Trainer, TrainingArguments\n",
    "from datasets import load_dataset\n",
    "from sklearn.metrics import accuracy_score, f1_score\n",
    "\n",
    "# 1. بارگذاری دیتاست IMDB\n",
    "dataset = load_dataset(\"imdb\")\n",
    "\n",
    "# 2. آماده‌سازی داده‌ها: توکنیزه کردن\n",
    "tokenizer = AutoTokenizer.from_pretrained(\"bert-base-uncased\")\n",
    "\n",
    "def tokenize_function(examples):\n",
    "    return tokenizer(examples[\"text\"], padding=\"max_length\", truncation=True, max_length=512)\n",
    "\n",
    "\n",
    "# کاهش تعداد نمونه‌ها برای آموزش و آزمون\n",
    "small_train = dataset[\"train\"].shuffle(seed=42).select(range(2000))  # 2000 نمونه از آموزش\n",
    "small_test = dataset[\"test\"].shuffle(seed=42).select(range(500))     # 500 نمونه از تست\n",
    "\n",
    "# توکنیزه کردن نمونه‌های کوچک\n",
    "tokenized_train = small_train.map(tokenize_function, batched=True)\n",
    "tokenized_test = small_test.map(tokenize_function, batched=True)\n",
    "\n"
   ]
  },
  {
   "cell_type": "code",
   "execution_count": null,
   "metadata": {
    "colab": {
     "base_uri": "https://localhost:8080/"
    },
    "id": "Vm9CEkOPIISC",
    "outputId": "8f29c759-5b80-418e-a68d-f2b0d12926a7"
   },
   "outputs": [],
   "source": [
    "# آماده‌سازی داده‌ها\n",
    "tokenized_train = tokenized_train.remove_columns([\"text\"])\n",
    "tokenized_test = tokenized_test.remove_columns([\"text\"])\n",
    "tokenized_train = tokenized_train.rename_column(\"label\", \"labels\")\n",
    "tokenized_test = tokenized_test.rename_column(\"label\", \"labels\")\n",
    "tokenized_train.set_format(\"torch\")\n",
    "tokenized_test.set_format(\"torch\")\n",
    "\n",
    "# بارگذاری مدل پیش‌آموزش شده BERT\n",
    "model = AutoModelForSequenceClassification.from_pretrained(\"bert-base-uncased\", num_labels=2)\n"
   ]
  },
  {
   "cell_type": "code",
   "execution_count": null,
   "metadata": {
    "colab": {
     "base_uri": "https://localhost:8080/"
    },
    "id": "sRVoK5huIW-3",
    "outputId": "0f71c23f-cbf8-49c8-a95e-9ef72d97f386"
   },
   "outputs": [],
   "source": [
    "def compute_metrics(pred):\n",
    "    labels = pred.label_ids\n",
    "    preds = pred.predictions.argmax(-1)  # پیدا کردن کلاس با بیشترین احتمال\n",
    "    acc = accuracy_score(labels, preds)\n",
    "    f1 = f1_score(labels, preds, average=\"weighted\")  # F1-Score وزنی\n",
    "    return {\"accuracy\": acc, \"f1\": f1}\n",
    "# تنظیمات آموزش\n",
    "training_args = TrainingArguments(\n",
    "    output_dir=\"./results\",\n",
    "    evaluation_strategy=\"epoch\",\n",
    "    save_strategy=\"epoch\",\n",
    "    learning_rate=2e-5,\n",
    "    per_device_train_batch_size=16,\n",
    "    per_device_eval_batch_size=16,\n",
    "    num_train_epochs=2,\n",
    "    weight_decay=0.01,\n",
    "    logging_dir=\"./logs\",\n",
    "    logging_steps=10,\n",
    "    load_best_model_at_end=True,\n",
    "    metric_for_best_model=\"f1\",\n",
    ")\n",
    "# تعریف Trainer\n",
    "trainer = Trainer(\n",
    "    model=model,\n",
    "    args=training_args,\n",
    "    train_dataset=tokenized_train,\n",
    "    eval_dataset=tokenized_test,\n",
    "    tokenizer=tokenizer,\n",
    "    compute_metrics=compute_metrics,\n",
    ")\n"
   ]
  },
  {
   "cell_type": "code",
   "execution_count": null,
   "metadata": {
    "colab": {
     "base_uri": "https://localhost:8080/",
     "height": 193
    },
    "id": "UEjsX6wSIiTS",
    "outputId": "a51480e3-eee3-4dd7-87d7-0a4dde66e3c1"
   },
   "outputs": [],
   "source": [
    "# تنظیم دقیق مدل\n",
    "trainer.train()\n",
    "\n",
    "# ارزیابی مدل\n",
    "results = trainer.evaluate()\n",
    "print(f\"Accuracy: {results['eval_accuracy']}\")\n",
    "print(f\"F1 Score: {results['eval_f1']}\")\n"
   ]
  }
 ],
 "metadata": {
  "accelerator": "GPU",
  "colab": {
   "gpuType": "T4",
   "provenance": []
  },
  "kernelspec": {
   "display_name": "Python 3",
   "name": "python3"
  },
  "language_info": {
   "name": "python"
  }
 },
 "nbformat": 4,
 "nbformat_minor": 0
}
